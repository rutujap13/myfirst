{
  "nbformat": 4,
  "nbformat_minor": 0,
  "metadata": {
    "colab": {
      "name": "flowerrecognition.ipynb",
      "provenance": [],
      "authorship_tag": "ABX9TyNGx9uYSmuuKHSeFEClhecv",
      "include_colab_link": true
    },
    "kernelspec": {
      "name": "python3",
      "display_name": "Python 3"
    }
  },
  "cells": [
    {
      "cell_type": "markdown",
      "metadata": {
        "id": "view-in-github",
        "colab_type": "text"
      },
      "source": [
        "<a href=\"https://colab.research.google.com/github/rutujap13/myfirst/blob/main/flowerrecognition.ipynb\" target=\"_parent\"><img src=\"https://colab.research.google.com/assets/colab-badge.svg\" alt=\"Open In Colab\"/></a>"
      ]
    },
    {
      "cell_type": "code",
      "metadata": {
        "colab": {
          "base_uri": "https://localhost:8080/"
        },
        "id": "k2dp6q3GY789",
        "outputId": "0fd0b930-db19-4651-d215-51505af5e38e"
      },
      "source": [
        "from google.colab import drive\r\n",
        "drive.mount ('/content/gdrive')"
      ],
      "execution_count": 2,
      "outputs": [
        {
          "output_type": "stream",
          "text": [
            "Drive already mounted at /content/gdrive; to attempt to forcibly remount, call drive.mount(\"/content/gdrive\", force_remount=True).\n"
          ],
          "name": "stdout"
        }
      ]
    },
    {
      "cell_type": "code",
      "metadata": {
        "id": "Zl0wP6HsZkP2"
      },
      "source": [
        "import os\r\n",
        "os.environ['KAGGLE_CONFIG_DIR'] = \"/content/gdrive/My Drive/kaggle\"\r\n",
        "\r\n",
        "# /content/gdrive/My Drive/Kaggle is the path where kaggle.json is present in the Google Drive"
      ],
      "execution_count": 9,
      "outputs": []
    },
    {
      "cell_type": "code",
      "metadata": {
        "colab": {
          "base_uri": "https://localhost:8080/"
        },
        "id": "lOs4dQwNZ4Kp",
        "outputId": "2b006b95-4408-4488-fb33-cb0dd3cbd29f"
      },
      "source": [
        "#changing the working directory\r\n",
        "%cd /content/gdrive/My Drive/kaggle\r\n",
        "#Check the present working directory using pwd command"
      ],
      "execution_count": 10,
      "outputs": [
        {
          "output_type": "stream",
          "text": [
            "/content/gdrive/My Drive/kaggle\n"
          ],
          "name": "stdout"
        }
      ]
    },
    {
      "cell_type": "code",
      "metadata": {
        "colab": {
          "base_uri": "https://localhost:8080/"
        },
        "id": "yHxU5qGpahfp",
        "outputId": "ab9e8835-4473-4039-d306-ce381e1d6b96"
      },
      "source": [
        "!kaggle datasets download -d alxmamaev/flowers-recognition"
      ],
      "execution_count": 11,
      "outputs": [
        {
          "output_type": "stream",
          "text": [
            "Downloading flowers-recognition.zip to /content/gdrive/My Drive/kaggle\n",
            " 99% 446M/450M [00:05<00:00, 105MB/s] \n",
            "100% 450M/450M [00:05<00:00, 86.9MB/s]\n"
          ],
          "name": "stdout"
        }
      ]
    }
  ]
}